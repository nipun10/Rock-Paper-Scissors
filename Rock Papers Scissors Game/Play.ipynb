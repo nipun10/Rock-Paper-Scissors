{
 "cells": [
  {
   "cell_type": "code",
   "execution_count": 2,
   "metadata": {},
   "outputs": [],
   "source": [
    "from keras.models import model_from_json\n",
    "import numpy as np\n",
    "from skimage import io\n",
    "import cv2\n",
    "import random"
   ]
  },
  {
   "cell_type": "code",
   "execution_count": 3,
   "metadata": {},
   "outputs": [],
   "source": [
    "def prepImg(pth):\n",
    "    return cv2.resize(pth,(300,350)).reshape(1,300,350,3)"
   ]
  },
  {
   "cell_type": "code",
   "execution_count": 4,
   "metadata": {},
   "outputs": [],
   "source": [
    "def updateScore(play,bplay,p,b):\n",
    "    winRule = {'rock':'scissor','scissor':'paper','paper':'rock'}\n",
    "    if play == bplay:\n",
    "        return p,b\n",
    "    elif bplay == winRule[play]:\n",
    "        return p+1,b\n",
    "    else:\n",
    "        return p,b+1"
   ]
  },
  {
   "cell_type": "code",
   "execution_count": 5,
   "metadata": {},
   "outputs": [],
   "source": [
    "with open('model.json', 'r') as f:\n",
    "    loaded_model_json = f.read()"
   ]
  },
  {
   "cell_type": "code",
   "execution_count": 6,
   "metadata": {},
   "outputs": [
    {
     "name": "stdout",
     "output_type": "stream",
     "text": [
      "Loaded model from disk\n"
     ]
    }
   ],
   "source": [
    "loaded_model = model_from_json(loaded_model_json)\n",
    "loaded_model.load_weights(\"model.h5\")\n",
    "print(\"Loaded model from disk\")"
   ]
  },
  {
   "cell_type": "code",
   "execution_count": 18,
   "metadata": {},
   "outputs": [],
   "source": [
    "shape_to_label = {'rock':np.array([1.,0.,0.]),'paper':np.array([0.,1.,0.]),'scissor':np.array([0.,0.,1.])}\n",
    "arr_to_shape = {np.argmax(shape_to_label[x]):x for x in shape_to_label.keys()}\n",
    "\n",
    "options = ['rock','paper','scissor']\n",
    "winRule = {'rock':'scissor','scissor':'paper','paper':'rock'}\n",
    "rounds = 0\n",
    "botScore = 0\n",
    "\n",
    "playerScore = 0\n",
    "NUM_ROUNDS = 10\n",
    "bplay = \"\""
   ]
  },
  {
   "cell_type": "code",
   "execution_count": 9,
   "metadata": {},
   "outputs": [
    {
     "data": {
      "text/plain": [
       "array([[3.0477305e-11, 8.2190067e-22, 1.0000000e+00]], dtype=float32)"
      ]
     },
     "execution_count": 9,
     "metadata": {},
     "output_type": "execute_result"
    }
   ],
   "source": [
    "cap = cv2.VideoCapture(0)\n",
    "ret,frame = cap.read()\n",
    "loaded_model.predict(prepImg(frame[50:350,100:450]))"
   ]
  },
  {
   "cell_type": "markdown",
   "metadata": {},
   "source": [
    "NUM_ROUNDS = 3\n",
    "bplay = \"\""
   ]
  },
  {
   "cell_type": "code",
   "execution_count": 19,
   "metadata": {},
   "outputs": [],
   "source": [
    "while True:\n",
    "    ret , frame = cap.read()\n",
    "    frame = frame = cv2.putText(frame,\"Press Space to start\",(160,200),cv2.FONT_HERSHEY_SIMPLEX,1,(250,250,0),2,cv2.LINE_AA)\n",
    "    cv2.imshow('Rock Paper Scissor',frame)\n",
    "    if cv2.waitKey(1) & 0xff == ord(' '):\n",
    "        break"
   ]
  },
  {
   "cell_type": "code",
   "execution_count": null,
   "metadata": {},
   "outputs": [
    {
     "name": "stdout",
     "output_type": "stream",
     "text": [
      "scissor rock\n",
      "scissor rock\n",
      "scissor scissor\n",
      "scissor rock\n",
      "scissor rock\n",
      "scissor paper\n",
      "scissor rock\n",
      "rock scissor\n",
      "rock scissor\n"
     ]
    }
   ],
   "source": [
    "for rounds in range(NUM_ROUNDS):\n",
    "    pred = \"\"\n",
    "    for i in range(90):\n",
    "        ret,frame = cap.read()\n",
    "    \n",
    "        # Countdown    \n",
    "        if i//20 < 3 :\n",
    "            frame = cv2.putText(frame,str(i//20+1),(320,100),cv2.FONT_HERSHEY_SIMPLEX,3,(250,250,0),2,cv2.LINE_AA)\n",
    "\n",
    "        # Prediction\n",
    "        elif i/20 < 3.5:\n",
    "            pred = arr_to_shape[np.argmax(loaded_model.predict(prepImg(frame[50:350,100:400])))]\n",
    "        \n",
    "        # Get Bots Move\n",
    "        elif i/20 == 3.5:\n",
    "            bplay = random.choice(options)            \n",
    "            print(pred,bplay)\n",
    "\n",
    "        # Update Score\n",
    "        elif i//20 == 4:\n",
    "            \n",
    "            playerScore,botScore = updateScore(pred,bplay,playerScore,botScore)\n",
    "            break\n",
    "\n",
    "        cv2.rectangle(frame, (100, 150), (300, 350), (255, 255, 255), 2)\n",
    "        frame = cv2.putText(frame,\"Player : {}      Bot : {}\".format(playerScore,botScore),(120,400),cv2.FONT_HERSHEY_SIMPLEX,1,(250,250,0),2,cv2.LINE_AA)\n",
    "        frame = cv2.putText(frame,pred,(150,140),cv2.FONT_HERSHEY_SIMPLEX,1,(250,250,0),2,cv2.LINE_AA)\n",
    "        frame = cv2.putText(frame,\"Bot Played : {}\".format(bplay),(300,140),cv2.FONT_HERSHEY_SIMPLEX,1,(250,250,0),2,cv2.LINE_AA)        \n",
    "        cv2.imshow('Rock Paper Scissor',frame)\n",
    "        if cv2.waitKey(1) & 0xff == ord('q'):\n",
    "            break"
   ]
  },
  {
   "cell_type": "code",
   "execution_count": 51,
   "metadata": {},
   "outputs": [],
   "source": [
    "if playerScore > botScore:\n",
    "    winner = \"You Won!!\"\n",
    "elif playerScore == botScore:\n",
    "    winner = \"Its a Tie\"\n",
    "else:\n",
    "    \n",
    "    winner = \"Bot Won..\""
   ]
  },
  {
   "cell_type": "code",
   "execution_count": 52,
   "metadata": {},
   "outputs": [],
   "source": [
    "while True:\n",
    "    ret,frame = cap.read()\n",
    "    frame = cv2.putText(frame,winner,(230,150),cv2.FONT_HERSHEY_SIMPLEX,1,(250,250,0),2,cv2.LINE_AA)\n",
    "    frame = cv2.putText(frame,\"Press q to quit\",(190,200),cv2.FONT_HERSHEY_SIMPLEX,1,(250,250,0),2,cv2.LINE_AA)\n",
    "    frame = cv2.putText(frame,\"Player : {}      Bot : {}\".format(playerScore,botScore),(120,400),cv2.FONT_HERSHEY_SIMPLEX,1,(250,250,0),2,cv2.LINE_AA)\n",
    "    cv2.imshow('Rock Paper Scissor',frame)\n",
    "    if cv2.waitKey(1) & 0xff == ord('q'):\n",
    "            break"
   ]
  },
  {
   "cell_type": "code",
   "execution_count": 53,
   "metadata": {},
   "outputs": [],
   "source": [
    "cap.release()\n",
    "cv2.destroyAllWindows()"
   ]
  },
  {
   "cell_type": "code",
   "execution_count": null,
   "metadata": {},
   "outputs": [],
   "source": []
  }
 ],
 "metadata": {
  "kernelspec": {
   "display_name": "Python 3",
   "language": "python",
   "name": "python3"
  },
  "language_info": {
   "codemirror_mode": {
    "name": "ipython",
    "version": 3
   },
   "file_extension": ".py",
   "mimetype": "text/x-python",
   "name": "python",
   "nbconvert_exporter": "python",
   "pygments_lexer": "ipython3",
   "version": "3.7.4"
  }
 },
 "nbformat": 4,
 "nbformat_minor": 2
}
