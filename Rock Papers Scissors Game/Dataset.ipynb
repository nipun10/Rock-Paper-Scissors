{
 "cells": [
  {
   "cell_type": "code",
   "execution_count": 1,
   "metadata": {},
   "outputs": [],
   "source": [
    "import numpy as np\n",
    "import cv2\n",
    "import os\n",
    "\n",
    "import sys"
   ]
  },
  {
   "cell_type": "code",
   "execution_count": 2,
   "metadata": {},
   "outputs": [],
   "source": [
    "PATH = os.getcwd()+'\\\\'\n",
    "cap = cv2.VideoCapture(0)"
   ]
  },
  {
   "cell_type": "code",
   "execution_count": 3,
   "metadata": {},
   "outputs": [],
   "source": [
    "label = sys.argv[1]\n",
    "SAVE_PATH = os.path.join(PATH, label)"
   ]
  },
  {
   "cell_type": "code",
   "execution_count": 4,
   "metadata": {},
   "outputs": [],
   "source": [
    "try:\n",
    "    os.mkdir(SAVE_PATH)\n",
    "except FileExistsError:\n",
    "    pass"
   ]
  },
  {
   "cell_type": "code",
   "execution_count": 5,
   "metadata": {},
   "outputs": [
    {
     "name": "stdout",
     "output_type": "stream",
     "text": [
      "Hit Space to Capture Image\n"
     ]
    }
   ],
   "source": [
    "ct = 1\n",
    "maxCt = 10\n",
    "print(\"Hit Space to Capture Image\")\n",
    "label=\"Scissors\""
   ]
  },
  {
   "cell_type": "code",
   "execution_count": 80,
   "metadata": {},
   "outputs": [
    {
     "name": "stdout",
     "output_type": "stream",
     "text": [
      "C:\\Users\\HP\\RPS GAME\\-f\\Scissors1.jpg Captured\n",
      "C:\\Users\\HP\\RPS GAME\\-f\\Scissors2.jpg Captured\n",
      "C:\\Users\\HP\\RPS GAME\\-f\\Scissors3.jpg Captured\n",
      "C:\\Users\\HP\\RPS GAME\\-f\\Scissors4.jpg Captured\n",
      "C:\\Users\\HP\\RPS GAME\\-f\\Scissors5.jpg Captured\n",
      "C:\\Users\\HP\\RPS GAME\\-f\\Scissors6.jpg Captured\n",
      "C:\\Users\\HP\\RPS GAME\\-f\\Scissors7.jpg Captured\n",
      "C:\\Users\\HP\\RPS GAME\\-f\\Scissors8.jpg Captured\n",
      "C:\\Users\\HP\\RPS GAME\\-f\\Scissors9.jpg Captured\n"
     ]
    }
   ],
   "source": [
    "while True:\n",
    "    ret, frame = cap.read()\n",
    "    cv2.imshow('Get Data : '+label,frame[50:350,100:450])\n",
    "    if cv2.waitKey(1) & 0xFF == ord(' '):\n",
    "        cv2.imwrite(SAVE_PATH+'\\\\'+label+'{}.jpg'.format(ct),frame[50:350,100:450])\n",
    "        print(SAVE_PATH+'\\\\'+label+'{}.jpg Captured'.format(ct))\n",
    "        ct+=1\n",
    "    if ct >= maxCt:\n",
    "        break\n",
    " "
   ]
  },
  {
   "cell_type": "code",
   "execution_count": 81,
   "metadata": {},
   "outputs": [],
   "source": [
    "cap.release()\n",
    "cv2.destroyAllWindows()"
   ]
  },
  {
   "cell_type": "code",
   "execution_count": null,
   "metadata": {},
   "outputs": [],
   "source": []
  }
 ],
 "metadata": {
  "kernelspec": {
   "display_name": "Python 3",
   "language": "python",
   "name": "python3"
  },
  "language_info": {
   "codemirror_mode": {
    "name": "ipython",
    "version": 3
   },
   "file_extension": ".py",
   "mimetype": "text/x-python",
   "name": "python",
   "nbconvert_exporter": "python",
   "pygments_lexer": "ipython3",
   "version": "3.7.4"
  }
 },
 "nbformat": 4,
 "nbformat_minor": 2
}
